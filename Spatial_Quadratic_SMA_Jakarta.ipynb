{
  "nbformat": 4,
  "nbformat_minor": 0,
  "metadata": {
    "colab": {
      "provenance": [],
      "include_colab_link": true
    },
    "kernelspec": {
      "name": "python3",
      "display_name": "Python 3"
    },
    "language_info": {
      "name": "python"
    }
  },
  "cells": [
    {
      "cell_type": "markdown",
      "metadata": {
        "id": "view-in-github",
        "colab_type": "text"
      },
      "source": [
        "<a href=\"https://colab.research.google.com/github/nurulqa/coba-berhasil/blob/main/Spatial_Quadratic_SMA_Jakarta.ipynb\" target=\"_parent\"><img src=\"https://colab.research.google.com/assets/colab-badge.svg\" alt=\"Open In Colab\"/></a>"
      ]
    },
    {
      "cell_type": "code",
      "source": [
        "!pip install geopandas"
      ],
      "metadata": {
        "id": "HJnK1c-OZEgZ"
      },
      "execution_count": null,
      "outputs": []
    },
    {
      "cell_type": "code",
      "source": [
        "!pip install pysal"
      ],
      "metadata": {
        "id": "lEX6VdHdZNCK"
      },
      "execution_count": null,
      "outputs": []
    },
    {
      "cell_type": "code",
      "source": [
        "!pip install contextily"
      ],
      "metadata": {
        "id": "W6FJDsUhZVeq"
      },
      "execution_count": null,
      "outputs": []
    },
    {
      "cell_type": "code",
      "execution_count": null,
      "metadata": {
        "id": "8zgl5gXsVR09"
      },
      "outputs": [],
      "source": [
        "import numpy\n",
        "import pandas\n",
        "import geopandas\n",
        "import pysal\n",
        "import seaborn\n",
        "import contextily\n",
        "import matplotlib.pyplot as plt\n",
        "from sklearn.cluster import DBSCAN"
      ]
    },
    {
      "cell_type": "code",
      "source": [
        "db = pandas.read_csv(\"/content/data-lat-long-sma-negeri-jkt.csv\")"
      ],
      "metadata": {
        "id": "bCx4acfDXcXZ"
      },
      "execution_count": null,
      "outputs": []
    },
    {
      "cell_type": "code",
      "source": [
        "db.info()"
      ],
      "metadata": {
        "id": "hEQQ4MCoZvFE"
      },
      "execution_count": null,
      "outputs": []
    },
    {
      "cell_type": "code",
      "source": [
        "seaborn.jointplot(x=\"longitude\", y=\"latitude\", data=db, s=0.5);"
      ],
      "metadata": {
        "id": "vdAxXHnoZ0md"
      },
      "execution_count": null,
      "outputs": []
    },
    {
      "cell_type": "code",
      "source": [
        "joint_axes = seaborn.jointplot(\n",
        "    x=\"longitude\", y=\"latitude\", data=db, s=0.5\n",
        ")\n",
        "contextily.add_basemap(\n",
        "    joint_axes.ax_joint,\n",
        "    crs=\"EPSG:4326\",\n",
        "    source=contextily.providers.CartoDB.PositronNoLabels,\n",
        ");"
      ],
      "metadata": {
        "id": "y5x2Cn-zZ5mQ"
      },
      "execution_count": null,
      "outputs": []
    },
    {
      "cell_type": "code",
      "source": [
        "# Set up figure and axis\n",
        "f, ax = plt.subplots(1, figsize=(12, 9))\n",
        "# Generate and add hexbin with 50 hexagons in each\n",
        "# dimension, no borderlines, half transparency,\n",
        "# and the reverse viridis colormap\n",
        "hb = ax.hexbin(\n",
        "    db[\"longitude\"],\n",
        "    db[\"latitude\"],\n",
        "    gridsize=50,\n",
        "    linewidths=0,\n",
        "    alpha=0.5,\n",
        "    cmap=\"viridis_r\",\n",
        ")\n",
        "# Add basemap\n",
        "contextily.add_basemap(\n",
        "    ax, source=contextily.providers.CartoDB.Positron\n",
        ")\n",
        "# Add colorbar\n",
        "plt.colorbar(hb)\n",
        "# Remove axes\n",
        "ax.set_axis_off()"
      ],
      "metadata": {
        "id": "NzOdWx83aIt9"
      },
      "execution_count": null,
      "outputs": []
    },
    {
      "cell_type": "code",
      "source": [
        "from pointpats import (\n",
        "    distance_statistics,\n",
        "    QStatistic,\n",
        "    random,\n",
        "    PointPattern,\n",
        ")"
      ],
      "metadata": {
        "id": "L55UkJvibxt4"
      },
      "execution_count": null,
      "outputs": []
    },
    {
      "cell_type": "code",
      "source": [
        "coordinates = db[[\"longitude\",\"latitude\"]].values\n",
        "qstat = QStatistic(coordinates)\n",
        "qstat.plot()"
      ],
      "metadata": {
        "id": "J_wotwIDaTFl"
      },
      "execution_count": null,
      "outputs": []
    },
    {
      "cell_type": "code",
      "source": [
        "qstat.chi2_pvalue"
      ],
      "metadata": {
        "id": "xNqNboE9b9_o"
      },
      "execution_count": null,
      "outputs": []
    },
    {
      "cell_type": "code",
      "source": [
        "random_pattern = random.poisson(coordinates, size=len(coordinates))\n",
        "qstat_null = QStatistic(random_pattern)\n",
        "qstat_null.plot()\n",
        "qstat_null.chi2_pvalue"
      ],
      "metadata": {
        "id": "2MJw28h6JqNC"
      },
      "execution_count": null,
      "outputs": []
    },
    {
      "cell_type": "code",
      "source": [
        "import libpysal\n",
        "\n",
        "alpha_shape, alpha, circs = libpysal.cg.alpha_shape_auto(\n",
        "    coordinates, return_circles=True\n",
        ")\n",
        "random_pattern_ashape = random.poisson(\n",
        "    alpha_shape, size=len(coordinates)\n",
        ")\n",
        "qstat_null_ashape = QStatistic(random_pattern_ashape)\n",
        "qstat_null_ashape.plot()\n",
        "qstat_null_ashape.chi2_pvalue"
      ],
      "metadata": {
        "id": "XCkw98htJsZX"
      },
      "execution_count": null,
      "outputs": []
    },
    {
      "cell_type": "code",
      "source": [
        "import folium\n",
        "\n",
        "loc_center = [db['latitude'].mean(), db['longitude'].mean()]\n",
        "\n",
        "map1 = folium.Map(location = loc_center, tiles='Openstreetmap', zoom_start = 5, control_scale=True)\n",
        "for index, loc in db.iterrows():\n",
        "    folium.CircleMarker([loc['latitude'], loc['longitude']],     radius=2, weight=5, popup=loc['nama_sekolah']).add_to(map1)\n",
        "folium.LayerControl().add_to(map1)\n",
        "map1"
      ],
      "metadata": {
        "id": "7pKyGH8NEtu_"
      },
      "execution_count": null,
      "outputs": []
    },
    {
      "cell_type": "code",
      "source": [],
      "metadata": {
        "id": "byCbciLVTJZR"
      },
      "execution_count": null,
      "outputs": []
    }
  ]
}